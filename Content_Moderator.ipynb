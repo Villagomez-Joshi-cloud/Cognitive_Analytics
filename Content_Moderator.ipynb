{
 "cells": [
  {
   "cell_type": "markdown",
   "metadata": {
    "colab_type": "text",
    "id": "jblSTQI72ZT4"
   },
   "source": [
    "#  Textual Content Moderation using Cognitive Services and Python\n",
    "\n",
    "**NOTE:** This notebook will not run properly on the Microsoft Azure Notebooks platform because their virtual machines use an older version of OpenSSL that is not comaptible with Microsoft's Azure Cognitive Services APIs. ***You will therefore need to run this notebook in Google Colab***.\n",
    "\n",
    "In this lab assignment, we will be using one of the **Microsoft Azure Cognitive Services** to build a system that can automatically detect inappropriate content such as profanity, hate speech, threats, racism, etc. in written text. Recall that **cognitive computing** involves using artificial intelligence technologies to build systems that can perform tasks which could previously only be accomplished by the human mind. The detection of inappropriate content in written text is an excellent example of such a task, and as such we will building a **cognitive computing system** in this lab assignment.\n",
    "\n",
    "By the time you have completed this lab, you will have achieved all of the following learning objectives:\n",
    "\n",
    "## Learning Objectives\n",
    "\n",
    "* Understand what Azure Cognitive Services are.\n",
    "* Have the ability to configure and provision cognitive services as resources on the Microsoft Azure platform.\n",
    "* Understand the purpose of an application programming interface (API).\n",
    "* Use Python to connect to and interact with the Content Moderator cognitive service via its API.\n",
    "* Have the ability to iteratively send written comments to the Content Moderator cognitive service, and process the results to determine if the written comments are inappropriate or obscene.\n",
    "* Analyze the results obtained from the Content Moderator cognitive service, and compare the performance of those results to labels assigned by human judges.\n",
    "* Continue to develop skills working with and analyzing data in Python.\n",
    "\n",
    "## About Azure Cognitive Services\n",
    "\n",
    "According to Microsoft:\n",
    "\n",
    "> \"Cognitive Services bring AI within reach of every developer... All it takes is an API call to embed the ability to see, hear, speak, search, understand, and accelerate decision-making into your apps.\"\n",
    "\n",
    "Microsoft currently has **nearly 30 cognitive service APIs** available that can perform a wide variety of tasks. We will be using several of these APIs in our remaining lab assignments, and you will also need to use at least one of these APIs in your final project.\n",
    "\n",
    "You may learn more about Azure Cognitive Services [on this website](https://azure.microsoft.com/en-us/services/cognitive-services).\n",
    "\n",
    "## About the Content Moderator Cognitive Service\n",
    "\n",
    "According to Microsoft:\n",
    "\n",
    "> \"Azure Content Moderator is a cognitive service that checks text, image, and video content for material that is potentially offensive, risky, or otherwise undesirable. When this material is found, the service applies appropriate labels (flags) to the content. Your app can then handle flagged content in order to comply with regulations or maintain the intended environment for users.\"\n",
    "\n",
    "The Content Moderator service is hence intended to provide developers with an all-in-one solution to content moderation tasks. If you consider the Web in its entirety, you will notice that a great deal of content is **user generated**. For example, virtually all of the content on websites such as Twitter, Facebook, Instagram, YouTube, Stack Overflow, Wikipedia, etc. is created by users, and not by the companies that operate those websites. In order to provide a positive experience for as many users as possible, companies are highly interested in ensuring that potentially offensive content is not contained in the videos, images, or written text that users post on the companies' websites. The purpose of the Content Moderator service, then, is to provide a single API that can be used to detect inappropriate content in text, images, or video. We will be using only the text moderation part of the API in this lab assignment, but I wanted you to be aware of the API's image and video moderation services, as well.\n",
    "\n",
    "You may learn more about the Content Moderator service [on this website](https://azure.microsoft.com/en-us/services/cognitive-services/content-moderator).\n",
    "\n",
    "## About APIs\n",
    "\n",
    "An API (Application Programming Interface) is an interface that allows the resources, capabilities, or services of one computer system to be used by other computer systems. As with functions in computer programs, using an API typically involves passing one or more inputs to the system that provides the API, which then returns one or more outputs back to the system that called the API.\n",
    "\n",
    "To learn more about APIs, please read [this article](https://en.wikipedia.org/wiki/Application_programming_interface).\n",
    "\n",
    "## Lab Prerequisites\n",
    "\n",
    "To complete this, you will need to complete the following tasks:\n",
    "\n",
    "*   Create or sign into a Microsoft Azure account. If you do not already have an Azure account, then please sign up for a free student account [on this website](https://azure.microsoft.com/en-us/free/students).\n",
    "*   Add the \"Content Moderator\" resource to your Azure account. To do this, follow these steps:\n",
    "\n",
    "  1. After signing into your Azure account, use the search box to search for \"Cognitive Services\".\n",
    "  2. Click the \"Add\" button.\n",
    "  3. Next to the list of cognitive services, click the \"See More\" link.\n",
    "  4. Select the \"Content Moderator\" option.\n",
    "  5. Click the \"Create\" button.\n",
    "  6. Provide a unique name for the resource. I used \"585-Content-Moderator\", but feel free to use whatever name you like.\n",
    "  7. Be sure that your \"Azure for Students\" subscription is selected, and that you have chosen a location for the resource (e.g., \"(US) West US 2\").\n",
    "  8. Choose the \"F0\" (free) pricing tier. This tier allows one call to the API per second, with a maximum of 5,000 calls per month.\n",
    "  9. Choose or create a resource group for the Content Moderator resource (e.g., \"585\").\n",
    "  10. Wait for your new resource to be deployed (this may take a minute or two).\n",
    "  11. Go to your new Content Moderator resource.\n",
    "  12. **Copy and paste your key and endpoint URL into the code cell below**. You will need these values in order to be able to make calls to the API from your Python code.\n",
    "  13. Be sure to run the code cell below before continuing with the lab assignment.\n",
    "\n",
    "\n"
   ]
  },
  {
   "cell_type": "code",
   "execution_count": 31,
   "metadata": {
    "colab": {},
    "colab_type": "code",
    "id": "CRiC02x2LQDs"
   },
   "outputs": [],
   "source": [
    "#copy and paste your Content Moderator API key and endpoint URL from Azure into the variables below:\n",
    "api_key = '000'\n",
    "endpoint = 'URL'"
   ]
  },
  {
   "cell_type": "markdown",
   "metadata": {
    "colab_type": "text",
    "id": "NL87bfouqiLH"
   },
   "source": [
    "## Install Azure Content Moderator and Import Libraries\n",
    "\n",
    "The Azure Content Moderator is not installed by default in most Jupyter Notebook environments, so we'll almost certainly need to install it. As usual, we'll also need to import all of the libraries that we'll use in the lab assignment.\n",
    "\n",
    "Run the code cell below to install the content moderator and import all of the necessay libraries."
   ]
  },
  {
   "cell_type": "code",
   "execution_count": 18,
   "metadata": {
    "colab": {},
    "colab_type": "code",
    "id": "wOs0OJ52z6jm"
   },
   "outputs": [
    {
     "name": "stdout",
     "output_type": "stream",
     "text": [
      "Requirement already satisfied: azure-cognitiveservices-vision-contentmoderator in c:\\users\\leonel villagomez\\anaconda3\\lib\\site-packages (1.0.0)\n",
      "Requirement already satisfied: azure-common~=1.1 in c:\\users\\leonel villagomez\\anaconda3\\lib\\site-packages (from azure-cognitiveservices-vision-contentmoderator) (1.1.25)\n",
      "Requirement already satisfied: msrest>=0.5.0 in c:\\users\\leonel villagomez\\anaconda3\\lib\\site-packages (from azure-cognitiveservices-vision-contentmoderator) (0.6.13)\n",
      "Requirement already satisfied: requests-oauthlib>=0.5.0 in c:\\users\\leonel villagomez\\anaconda3\\lib\\site-packages (from msrest>=0.5.0->azure-cognitiveservices-vision-contentmoderator) (1.3.0)\n",
      "Requirement already satisfied: certifi>=2017.4.17 in c:\\users\\leonel villagomez\\anaconda3\\lib\\site-packages (from msrest>=0.5.0->azure-cognitiveservices-vision-contentmoderator) (2018.4.16)\n",
      "Requirement already satisfied: isodate>=0.6.0 in c:\\users\\leonel villagomez\\anaconda3\\lib\\site-packages (from msrest>=0.5.0->azure-cognitiveservices-vision-contentmoderator) (0.6.0)\n",
      "Requirement already satisfied: requests~=2.16 in c:\\users\\leonel villagomez\\anaconda3\\lib\\site-packages (from msrest>=0.5.0->azure-cognitiveservices-vision-contentmoderator) (2.18.4)\n",
      "Requirement already satisfied: oauthlib>=3.0.0 in c:\\users\\leonel villagomez\\anaconda3\\lib\\site-packages (from requests-oauthlib>=0.5.0->msrest>=0.5.0->azure-cognitiveservices-vision-contentmoderator) (3.1.0)\n",
      "Requirement already satisfied: six in c:\\users\\leonel villagomez\\anaconda3\\lib\\site-packages (from isodate>=0.6.0->msrest>=0.5.0->azure-cognitiveservices-vision-contentmoderator) (1.11.0)\n",
      "Requirement already satisfied: chardet<3.1.0,>=3.0.2 in c:\\users\\leonel villagomez\\anaconda3\\lib\\site-packages (from requests~=2.16->msrest>=0.5.0->azure-cognitiveservices-vision-contentmoderator) (3.0.4)\n",
      "Requirement already satisfied: idna<2.7,>=2.5 in c:\\users\\leonel villagomez\\anaconda3\\lib\\site-packages (from requests~=2.16->msrest>=0.5.0->azure-cognitiveservices-vision-contentmoderator) (2.6)\n",
      "Requirement already satisfied: urllib3<1.23,>=1.21.1 in c:\\users\\leonel villagomez\\anaconda3\\lib\\site-packages (from requests~=2.16->msrest>=0.5.0->azure-cognitiveservices-vision-contentmoderator) (1.22)\n"
     ]
    },
    {
     "name": "stderr",
     "output_type": "stream",
     "text": [
      "You are using pip version 10.0.1, however version 20.0.2 is available.\n",
      "You should consider upgrading via the 'python -m pip install --upgrade pip' command.\n"
     ]
    }
   ],
   "source": [
    "#install the Microsoft Azure Cognitive Services Content Moderator library\n",
    "!pip install azure-cognitiveservices-vision-contentmoderator\n",
    "\n",
    "#import libraries\n",
    "import azure.cognitiveservices.vision.contentmoderator.models\n",
    "import io\n",
    "import numpy as np\n",
    "import pandas as pd\n",
    "import time\n",
    "import matplotlib.pyplot as plt \n",
    "from azure.cognitiveservices.vision.contentmoderator import ContentModeratorClient\n",
    "from IPython.display import clear_output\n",
    "from msrest.authentication import CognitiveServicesCredentials"
   ]
  },
  {
   "cell_type": "markdown",
   "metadata": {
    "colab_type": "text",
    "id": "kVE-DneazAx3"
   },
   "source": [
    "## Load Data\n",
    "\n",
    "The data for this lab assignment are real user comments from Wikipedia's \"talk\" pages. Each comment has been evaluated by human judges to determine whether it contains different types of potentially inappropriate content such as threats, obscenity, insults, or identity-based hate.\n",
    "\n",
    "### Dataset Variables\n",
    "\n",
    "The dataset contains the following variables:\n",
    "* <u>comment_text</u>: The actual written user comment from a Wikipedia \"talk\" page\n",
    "* <u>toxic</u>: Whether or not the comment is considered to be toxic (1 = toxic, 0 = not toxic)\n",
    "* <u>obscene</u>: Whether or not the comment is considered obscene (1 = obscene, 0 = not obscene)\n",
    "* <u>threat</u>: Whether or not the comment is considered to contain a threat (1 = contains a threat, 0 = does not contain a threat)\n",
    "* <u>insult</u>: Whether or not the comment is considered to contain an insult (1 = contains an insult, 0 = does not contain an insult)\n",
    "* <u>identity_hate</u>: Whether or not the comment is considered to involve identity-based hate (1 = involves identity-based hate, 0 = does not involve identity-based hate)\n",
    "\n",
    "Run the code cell below to load the data into a pandas dataframe, and preview the first few rows of data.\n",
    "\n",
    "**<u>WARNING</u>: Many of the written comments in the dataset are obscene, offensive, or otherwise inappropriate!** It is unfortunately necessary for us to work with such comments if we want to build a system that can detect them. Remember that the overall goal of automated content moderation is to provide companies with tools that they can use to *prevent* offensive user-generated content from appearing on their websites. I would therefore ask you to maintain the proper perspective as we work with these data by adopting the scientific principles of rationality and objectivity."
   ]
  },
  {
   "cell_type": "code",
   "execution_count": 19,
   "metadata": {
    "colab": {},
    "colab_type": "code",
    "id": "rXuggizQO2yQ"
   },
   "outputs": [
    {
     "data": {
      "text/html": [
       "<div>\n",
       "<style scoped>\n",
       "    .dataframe tbody tr th:only-of-type {\n",
       "        vertical-align: middle;\n",
       "    }\n",
       "\n",
       "    .dataframe tbody tr th {\n",
       "        vertical-align: top;\n",
       "    }\n",
       "\n",
       "    .dataframe thead th {\n",
       "        text-align: right;\n",
       "    }\n",
       "</style>\n",
       "<table border=\"1\" class=\"dataframe\">\n",
       "  <thead>\n",
       "    <tr style=\"text-align: right;\">\n",
       "      <th></th>\n",
       "      <th>comment_text</th>\n",
       "      <th>toxic</th>\n",
       "      <th>obscene</th>\n",
       "      <th>threat</th>\n",
       "      <th>insult</th>\n",
       "      <th>identity_hate</th>\n",
       "    </tr>\n",
       "  </thead>\n",
       "  <tbody>\n",
       "    <tr>\n",
       "      <th>0</th>\n",
       "      <td>holocaust was needed by the whole humanity</td>\n",
       "      <td>0</td>\n",
       "      <td>0</td>\n",
       "      <td>0</td>\n",
       "      <td>0</td>\n",
       "      <td>1</td>\n",
       "    </tr>\n",
       "    <tr>\n",
       "      <th>1</th>\n",
       "      <td>You translated much more clumsy, dude.\\nI just...</td>\n",
       "      <td>0</td>\n",
       "      <td>0</td>\n",
       "      <td>0</td>\n",
       "      <td>1</td>\n",
       "      <td>0</td>\n",
       "    </tr>\n",
       "    <tr>\n",
       "      <th>2</th>\n",
       "      <td>Dont really like the liberals either, Too much...</td>\n",
       "      <td>0</td>\n",
       "      <td>0</td>\n",
       "      <td>0</td>\n",
       "      <td>1</td>\n",
       "      <td>0</td>\n",
       "    </tr>\n",
       "    <tr>\n",
       "      <th>3</th>\n",
       "      <td>WHO CARES WIKIPEDIA IS NOT A PLACE FOR INDIVID...</td>\n",
       "      <td>1</td>\n",
       "      <td>0</td>\n",
       "      <td>0</td>\n",
       "      <td>0</td>\n",
       "      <td>0</td>\n",
       "    </tr>\n",
       "    <tr>\n",
       "      <th>4</th>\n",
       "      <td>Wow dude.  As your physician I suggest you sli...</td>\n",
       "      <td>0</td>\n",
       "      <td>0</td>\n",
       "      <td>1</td>\n",
       "      <td>0</td>\n",
       "      <td>0</td>\n",
       "    </tr>\n",
       "    <tr>\n",
       "      <th>5</th>\n",
       "      <td>The status quo version is plenty good enough f...</td>\n",
       "      <td>0</td>\n",
       "      <td>0</td>\n",
       "      <td>0</td>\n",
       "      <td>0</td>\n",
       "      <td>0</td>\n",
       "    </tr>\n",
       "    <tr>\n",
       "      <th>6</th>\n",
       "      <td>Thank you, should I one day wish to yet again ...</td>\n",
       "      <td>0</td>\n",
       "      <td>1</td>\n",
       "      <td>0</td>\n",
       "      <td>0</td>\n",
       "      <td>0</td>\n",
       "    </tr>\n",
       "    <tr>\n",
       "      <th>7</th>\n",
       "      <td>Regarding your passing \\n\\nBecause you willful...</td>\n",
       "      <td>0</td>\n",
       "      <td>0</td>\n",
       "      <td>1</td>\n",
       "      <td>0</td>\n",
       "      <td>0</td>\n",
       "    </tr>\n",
       "    <tr>\n",
       "      <th>8</th>\n",
       "      <td>diablada = bolivia \\n\\nlook at maps. this show...</td>\n",
       "      <td>0</td>\n",
       "      <td>0</td>\n",
       "      <td>0</td>\n",
       "      <td>0</td>\n",
       "      <td>0</td>\n",
       "    </tr>\n",
       "    <tr>\n",
       "      <th>9</th>\n",
       "      <td>I'ma smack ya upside da head wit a shovel. \\n\\...</td>\n",
       "      <td>0</td>\n",
       "      <td>0</td>\n",
       "      <td>1</td>\n",
       "      <td>0</td>\n",
       "      <td>0</td>\n",
       "    </tr>\n",
       "  </tbody>\n",
       "</table>\n",
       "</div>"
      ],
      "text/plain": [
       "                                        comment_text  toxic  obscene  threat  \\\n",
       "0         holocaust was needed by the whole humanity      0        0       0   \n",
       "1  You translated much more clumsy, dude.\\nI just...      0        0       0   \n",
       "2  Dont really like the liberals either, Too much...      0        0       0   \n",
       "3  WHO CARES WIKIPEDIA IS NOT A PLACE FOR INDIVID...      1        0       0   \n",
       "4  Wow dude.  As your physician I suggest you sli...      0        0       1   \n",
       "5  The status quo version is plenty good enough f...      0        0       0   \n",
       "6  Thank you, should I one day wish to yet again ...      0        1       0   \n",
       "7  Regarding your passing \\n\\nBecause you willful...      0        0       1   \n",
       "8  diablada = bolivia \\n\\nlook at maps. this show...      0        0       0   \n",
       "9  I'ma smack ya upside da head wit a shovel. \\n\\...      0        0       1   \n",
       "\n",
       "   insult  identity_hate  \n",
       "0       0              1  \n",
       "1       1              0  \n",
       "2       1              0  \n",
       "3       0              0  \n",
       "4       0              0  \n",
       "5       0              0  \n",
       "6       0              0  \n",
       "7       0              0  \n",
       "8       0              0  \n",
       "9       0              0  "
      ]
     },
     "execution_count": 19,
     "metadata": {},
     "output_type": "execute_result"
    }
   ],
   "source": [
    "#load the dataset into a pandas dataframe named \"df\"\n",
    "df = pd.read_csv(\"Data.file\")\n",
    "#show the first few rows of data\n",
    "df.head(10)"
   ]
  },
  {
   "cell_type": "markdown",
   "metadata": {
    "colab_type": "text",
    "id": "V8nJyMYC5GRE"
   },
   "source": [
    "## Generate Descriptive Statistics\n",
    "\n",
    "It's always a good idea to familiarize yourself with your data by looking at some quick descriptive statistics!\n",
    "\n",
    "#### Task 01:\n",
    "Write a line of code in the cell below that will display descriptive statistics for the numeric variables in the `df` dataframe.\n",
    "\n",
    "#### Question 01:\n",
    "\n",
    "What proportion of the comments in the dataset are labeled as being **toxic**? Report your answer in decimal format using three decimals of precision (e.g., 0.182). **Tip:** Consider the way in which the comments in the dataset are coded (e.g., 1 = toxic, 0 = not toxic), and what this means with respect to interpreting the descriptive statistics."
   ]
  },
  {
   "cell_type": "code",
   "execution_count": 20,
   "metadata": {
    "colab": {},
    "colab_type": "code",
    "id": "uOjee1FHQY96"
   },
   "outputs": [
    {
     "data": {
      "text/html": [
       "<div>\n",
       "<style scoped>\n",
       "    .dataframe tbody tr th:only-of-type {\n",
       "        vertical-align: middle;\n",
       "    }\n",
       "\n",
       "    .dataframe tbody tr th {\n",
       "        vertical-align: top;\n",
       "    }\n",
       "\n",
       "    .dataframe thead th {\n",
       "        text-align: right;\n",
       "    }\n",
       "</style>\n",
       "<table border=\"1\" class=\"dataframe\">\n",
       "  <thead>\n",
       "    <tr style=\"text-align: right;\">\n",
       "      <th></th>\n",
       "      <th>toxic</th>\n",
       "      <th>obscene</th>\n",
       "      <th>threat</th>\n",
       "      <th>insult</th>\n",
       "      <th>identity_hate</th>\n",
       "    </tr>\n",
       "  </thead>\n",
       "  <tbody>\n",
       "    <tr>\n",
       "      <th>count</th>\n",
       "      <td>150.000000</td>\n",
       "      <td>150.000000</td>\n",
       "      <td>150.000000</td>\n",
       "      <td>150.000000</td>\n",
       "      <td>150.000000</td>\n",
       "    </tr>\n",
       "    <tr>\n",
       "      <th>mean</th>\n",
       "      <td>0.153333</td>\n",
       "      <td>0.160000</td>\n",
       "      <td>0.146667</td>\n",
       "      <td>0.166667</td>\n",
       "      <td>0.173333</td>\n",
       "    </tr>\n",
       "    <tr>\n",
       "      <th>std</th>\n",
       "      <td>0.361516</td>\n",
       "      <td>0.367834</td>\n",
       "      <td>0.354958</td>\n",
       "      <td>0.373927</td>\n",
       "      <td>0.379803</td>\n",
       "    </tr>\n",
       "    <tr>\n",
       "      <th>min</th>\n",
       "      <td>0.000000</td>\n",
       "      <td>0.000000</td>\n",
       "      <td>0.000000</td>\n",
       "      <td>0.000000</td>\n",
       "      <td>0.000000</td>\n",
       "    </tr>\n",
       "    <tr>\n",
       "      <th>25%</th>\n",
       "      <td>0.000000</td>\n",
       "      <td>0.000000</td>\n",
       "      <td>0.000000</td>\n",
       "      <td>0.000000</td>\n",
       "      <td>0.000000</td>\n",
       "    </tr>\n",
       "    <tr>\n",
       "      <th>50%</th>\n",
       "      <td>0.000000</td>\n",
       "      <td>0.000000</td>\n",
       "      <td>0.000000</td>\n",
       "      <td>0.000000</td>\n",
       "      <td>0.000000</td>\n",
       "    </tr>\n",
       "    <tr>\n",
       "      <th>75%</th>\n",
       "      <td>0.000000</td>\n",
       "      <td>0.000000</td>\n",
       "      <td>0.000000</td>\n",
       "      <td>0.000000</td>\n",
       "      <td>0.000000</td>\n",
       "    </tr>\n",
       "    <tr>\n",
       "      <th>max</th>\n",
       "      <td>1.000000</td>\n",
       "      <td>1.000000</td>\n",
       "      <td>1.000000</td>\n",
       "      <td>1.000000</td>\n",
       "      <td>1.000000</td>\n",
       "    </tr>\n",
       "  </tbody>\n",
       "</table>\n",
       "</div>"
      ],
      "text/plain": [
       "            toxic     obscene      threat      insult  identity_hate\n",
       "count  150.000000  150.000000  150.000000  150.000000     150.000000\n",
       "mean     0.153333    0.160000    0.146667    0.166667       0.173333\n",
       "std      0.361516    0.367834    0.354958    0.373927       0.379803\n",
       "min      0.000000    0.000000    0.000000    0.000000       0.000000\n",
       "25%      0.000000    0.000000    0.000000    0.000000       0.000000\n",
       "50%      0.000000    0.000000    0.000000    0.000000       0.000000\n",
       "75%      0.000000    0.000000    0.000000    0.000000       0.000000\n",
       "max      1.000000    1.000000    1.000000    1.000000       1.000000"
      ]
     },
     "execution_count": 20,
     "metadata": {},
     "output_type": "execute_result"
    }
   ],
   "source": [
    "#display descriptive statistics for the numeric variables in the dataframe\n",
    "df.describe()"
   ]
  },
  {
   "cell_type": "markdown",
   "metadata": {
    "colab_type": "text",
    "id": "p1y9lmTJwsWz"
   },
   "source": [
    "## Appropriate vs. Inappropriate Comments\n",
    "\n",
    "The various types of inappropriate comments in the dataset (*toxic*, *obscene*, *threat*, etc.) are all identified using binary coding (i.e., ones or zeros) in their respective columns. But what if we simply want to know if a comment is appropriate or inappropriate? There is not currently a column in the dataset that indicates whether the human judges found a comment to be appropriate or not. \n",
    "\n",
    "If a comment is considered to be inappropriate in any way, then we know that it will have a value of \"1\" in at least one of the existing numeric columns in the dataset. We can use this knowledge to create a new column that will identify whether a comment is inappropriate in any way. In brief, if the sum of all of the current numeric columns for a given comment is greater than zero, then we know that the human judges found something to be wrong with that comment (i.e., the comment is *inappropriate*). Otherwise, if the sum is equal to zero, then we know that the human judges found nothing wrong with the comment (i.e., the comment is *appropriate*).\n",
    "\n",
    "Run the code cell below to add a new column to the `df` dataframe named `human_inappropriate`, which will indicate whether the human judges found a comment to be inappropriate or not (inappropriate = 1, appropriate = 0). The first line of code simply computes the sum of all of the existing numeric columns in the dataframe for each comment, and stores the results in a new column named `human_inappropriate`. If the sum of the columns for a particular comment is greater than or equal to one, then it indicates that the comment is *inappropriate* in some way. What we want, however, is for a value of \"1\" in our new column to indicate that the comment is *inappropriate*, while a value of \"0\" should indicate that the comment is *appropriate*. As such, the second line of code in the cell below recodes the results of our \"sum\" operation, such that inappropriate comments will labeled with a \"1\" and appropriate comments will be labeled with a \"0\". This second line of code uses a very useful feature of Python called *list comprehension*. To learn more about list comprehension, please see [this page](https://docs.python.org/3/tutorial/datastructures.html#list-comprehensions)."
   ]
  },
  {
   "cell_type": "code",
   "execution_count": 21,
   "metadata": {
    "colab": {},
    "colab_type": "code",
    "id": "l0U5GVcpYsbD"
   },
   "outputs": [],
   "source": [
    "#add a new column to the 'df' dataframe, and populate it with the row-wise sums of the values in all existing numeric columns\n",
    "df['human_inappropriate'] = df.sum(axis=1)\n",
    "\n",
    "#Recode the new \"human_inappropriate\" column such that appropriate comments have a value of \"0\" \n",
    "#and inappropriate comments have a value of \"1\".\n",
    "df['human_inappropriate'] = [1 if x > 0 else 0 for x in df['human_inappropriate']]"
   ]
  },
  {
   "cell_type": "code",
   "execution_count": 22,
   "metadata": {},
   "outputs": [
    {
     "data": {
      "text/html": [
       "<div>\n",
       "<style scoped>\n",
       "    .dataframe tbody tr th:only-of-type {\n",
       "        vertical-align: middle;\n",
       "    }\n",
       "\n",
       "    .dataframe tbody tr th {\n",
       "        vertical-align: top;\n",
       "    }\n",
       "\n",
       "    .dataframe thead th {\n",
       "        text-align: right;\n",
       "    }\n",
       "</style>\n",
       "<table border=\"1\" class=\"dataframe\">\n",
       "  <thead>\n",
       "    <tr style=\"text-align: right;\">\n",
       "      <th></th>\n",
       "      <th>comment_text</th>\n",
       "      <th>toxic</th>\n",
       "      <th>obscene</th>\n",
       "      <th>threat</th>\n",
       "      <th>insult</th>\n",
       "      <th>identity_hate</th>\n",
       "      <th>human_inappropriate</th>\n",
       "    </tr>\n",
       "  </thead>\n",
       "  <tbody>\n",
       "    <tr>\n",
       "      <th>0</th>\n",
       "      <td>holocaust was needed by the whole humanity</td>\n",
       "      <td>0</td>\n",
       "      <td>0</td>\n",
       "      <td>0</td>\n",
       "      <td>0</td>\n",
       "      <td>1</td>\n",
       "      <td>1</td>\n",
       "    </tr>\n",
       "    <tr>\n",
       "      <th>1</th>\n",
       "      <td>You translated much more clumsy, dude.\\nI just...</td>\n",
       "      <td>0</td>\n",
       "      <td>0</td>\n",
       "      <td>0</td>\n",
       "      <td>1</td>\n",
       "      <td>0</td>\n",
       "      <td>1</td>\n",
       "    </tr>\n",
       "    <tr>\n",
       "      <th>2</th>\n",
       "      <td>Dont really like the liberals either, Too much...</td>\n",
       "      <td>0</td>\n",
       "      <td>0</td>\n",
       "      <td>0</td>\n",
       "      <td>1</td>\n",
       "      <td>0</td>\n",
       "      <td>1</td>\n",
       "    </tr>\n",
       "    <tr>\n",
       "      <th>3</th>\n",
       "      <td>WHO CARES WIKIPEDIA IS NOT A PLACE FOR INDIVID...</td>\n",
       "      <td>1</td>\n",
       "      <td>0</td>\n",
       "      <td>0</td>\n",
       "      <td>0</td>\n",
       "      <td>0</td>\n",
       "      <td>1</td>\n",
       "    </tr>\n",
       "    <tr>\n",
       "      <th>4</th>\n",
       "      <td>Wow dude.  As your physician I suggest you sli...</td>\n",
       "      <td>0</td>\n",
       "      <td>0</td>\n",
       "      <td>1</td>\n",
       "      <td>0</td>\n",
       "      <td>0</td>\n",
       "      <td>1</td>\n",
       "    </tr>\n",
       "  </tbody>\n",
       "</table>\n",
       "</div>"
      ],
      "text/plain": [
       "                                        comment_text  toxic  obscene  threat  \\\n",
       "0         holocaust was needed by the whole humanity      0        0       0   \n",
       "1  You translated much more clumsy, dude.\\nI just...      0        0       0   \n",
       "2  Dont really like the liberals either, Too much...      0        0       0   \n",
       "3  WHO CARES WIKIPEDIA IS NOT A PLACE FOR INDIVID...      1        0       0   \n",
       "4  Wow dude.  As your physician I suggest you sli...      0        0       1   \n",
       "\n",
       "   insult  identity_hate  human_inappropriate  \n",
       "0       0              1                    1  \n",
       "1       1              0                    1  \n",
       "2       1              0                    1  \n",
       "3       0              0                    1  \n",
       "4       0              0                    1  "
      ]
     },
     "execution_count": 22,
     "metadata": {},
     "output_type": "execute_result"
    }
   ],
   "source": [
    "df.head()"
   ]
  },
  {
   "cell_type": "markdown",
   "metadata": {
    "colab_type": "text",
    "id": "t6acIqgC8NUq"
   },
   "source": [
    "#### Task 02:\n",
    "\n",
    "Write a line of code in the cell below that will display the number of comments in the dataset that the human judges found to be appropriate (i.e., comments that are not labeled as *toxic*, *obscene*, *threat*, *insult*, or *identity_hate*).\n",
    "\n",
    "#### Question 02:\n",
    "\n",
    "How many comments in the dataset were found by the human judges to be appropriate?"
   ]
  },
  {
   "cell_type": "code",
   "execution_count": 23,
   "metadata": {
    "colab": {},
    "colab_type": "code",
    "id": "CJS6csuC1YC9"
   },
   "outputs": [
    {
     "data": {
      "text/plain": [
       "30"
      ]
     },
     "execution_count": 23,
     "metadata": {},
     "output_type": "execute_result"
    }
   ],
   "source": [
    "#display the number of comments that are appropriate\n",
    "sum(df.human_inappropriate == 0)"
   ]
  },
  {
   "cell_type": "code",
   "execution_count": 25,
   "metadata": {},
   "outputs": [
    {
     "data": {
      "image/png": "[encoded data removed]",
      "text/plain": [
       "<Figure size 432x288 with 1 Axes>"
      ]
     },
     "metadata": {},
     "output_type": "display_data"
    }
   ],
   "source": [
    "ax = sns.countplot(x=\"human_inappropriate\", data=df,\n",
    "                   facecolor=(0, 0, 0, 0),\n",
    "                   linewidth=5,\n",
    "                   edgecolor=sns.color_palette(\"dark\", 2))"
   ]
  },
  {
   "cell_type": "markdown",
   "metadata": {
    "colab_type": "text",
    "id": "duIDV2xYx4ig"
   },
   "source": [
    "## Length of Comments\n",
    "\n",
    "The Content Moderator cognitive service requires that text comments passed into the API have a length of between 1 and 1024 characters (inclusive). Put differently, any empty (i.e., length 0) text comment passed into the API or any comment whose length exceeds 1024 characters will cause the API to return an error. As such, we will need to check whether all of the comments in our dataset are of an appropriate length for the API.\n",
    "\n",
    "#### Task 03:\n",
    "\n",
    "Write some code that will display the minimum length and maximum length of the text comments in the dataframe\n",
    "\n",
    "#### Question 03:\n",
    "\n",
    "What is maximum length of the text comments in the dataframe?"
   ]
  },
  {
   "cell_type": "code",
   "execution_count": 108,
   "metadata": {
    "colab": {},
    "colab_type": "code",
    "id": "YI3sJYN40IMl"
   },
   "outputs": [
    {
     "name": "stdout",
     "output_type": "stream",
     "text": [
      "Minimun 20\n",
      "Maximun 924\n",
      "20\n",
      "924\n"
     ]
    }
   ],
   "source": [
    "tamano = df.comment_text.str.len()\n",
    "\n",
    "\n",
    "#display the minimum length of the of the items in the \"comment_text\" column\n",
    "print('Minimun', min(tamano))\n",
    "\n",
    "#print the maximum length of the of the items in the \"comment_text\" column\n",
    "print('Maximun', max(tamano))\n",
    "\n",
    "print (df['comment_text'].str.len().min())\n",
    "print (df['comment_text'].str.len().max())"
   ]
  },
  {
   "cell_type": "markdown",
   "metadata": {
    "colab_type": "text",
    "id": "rZ3gKeNv-EvA"
   },
   "source": [
    "## Connect to the Azure Content Moderator Cognitive Service\n",
    "\n",
    "Now that we're familiar with our dataset, let's connect to the Content Moderator cognitive service. As noted at the beginning of the lab, you will need your API key and endpoint URL in order to connect to the Content Moderator API, so please be sure that you followed the earlier instructions in this assignment, and added your key and endpoint values to the appropriate variables. \n",
    "\n",
    "When you're certain that you've stored your key and endpoint values in the `api_key` and `endpoint` variables, run the code cell below to authenticate yourself with the Azure Content Moderator service, and create a new instance of a Content Moderator client. Your `client` object will be needed to use all of the functions available through the  Content Moderator service.\n",
    "\n"
   ]
  },
  {
   "cell_type": "code",
   "execution_count": 27,
   "metadata": {
    "colab": {},
    "colab_type": "code",
    "id": "Jmh3Y_wTZCq_"
   },
   "outputs": [],
   "source": [
    "#authenticate with the Content Moderator service, and create a Content Moderator client object\n",
    "client = ContentModeratorClient(endpoint=endpoint, credentials=CognitiveServicesCredentials(api_key))"
   ]
  },
  {
   "cell_type": "markdown",
   "metadata": {
    "colab_type": "text",
    "id": "G38JTNQin8x6"
   },
   "source": [
    "## The `get_inappropriate_terms()` Function\n",
    "\n",
    "Working with the Content Moderator API is a bit tricky. For example, the current version of the API only accepts file objects as input (as opposed to, say, a simple string variable). Microsoft's engineers have promised that they will improve this in the next release, but for now we'll just need to work around this issue. The results that are returned by the API are also quite complex. For example, they include an automatically corrected version of the input text, extensive details about any personally identifiable information (PII) that the API detected, the location of each inappropriate term in the input text, etc.\n",
    "\n",
    "In light of the above considerations, and given that this is our first time working with a Cognitive Services API, I have created a `get_inappropriate_terms()` function for this assignment that should make working with the API much easier. In brief, we will simply need to pass in a comment (as a string variable) to the function. It will then call the API, and return any inappropriate terms as a list.\n",
    "\n",
    "Run the code cell below to add the `get_inappropriate_terms()` function to your lab assignment program."
   ]
  },
  {
   "cell_type": "code",
   "execution_count": 28,
   "metadata": {
    "colab": {},
    "colab_type": "code",
    "id": "IIjaXhYqcBWe"
   },
   "outputs": [],
   "source": [
    "#define a function that will pass a comment to the API, and return any inappropriate \n",
    "#terms that the API identifies\n",
    "def get_inappropriate_terms(comment):\n",
    "  #write comment to local file -- this is unfortunately necessary because the API\n",
    "  #currently only accepts file-based input.  :(\n",
    "  with open('comment.txt', 'w') as f:\n",
    "    f.write(comment)\n",
    "  \n",
    "  #send comment to Content Moderator API, and get the results\n",
    "  with open('comment.txt', 'rb') as f:\n",
    "    results = client.text_moderation.screen_text(text_content_type='text/plain', text_content=f, language='eng', autocorrect=True, pii=True)\n",
    "\n",
    "  #define a list to hold any inappropriate terms that the API has identified\n",
    "  inappropriate_terms = []\n",
    "\n",
    "  #if at least one inappropriate term was identified\n",
    "  if results.terms is not None:\n",
    "    #populate the inappropriate_terms list with terms identified by the API\n",
    "    inappropriate_terms = [dt.term for dt in results.terms]\n",
    "\n",
    "  #sleep for 1 second (in deference to the API's limit of one transaction per second)\n",
    "  time.sleep(1)\n",
    "  \n",
    "  #return a list containing any inappropriate terms \n",
    "  return inappropriate_terms"
   ]
  },
  {
   "cell_type": "markdown",
   "metadata": {
    "colab_type": "text",
    "id": "1B2rql8NuIzE"
   },
   "source": [
    "## Test the Content Moderator API\n",
    "\n",
    "Now that we've connected to the Content Moderator cognitive service, let's test the API.\n",
    "\n",
    "#### Task 04:\n",
    "\n",
    "The code cell below contains a quote from *Henry IV, Part I* by William Shakespeare. Write some code that will pass this quote to the `get_inappropriate_terms()` function, and print the list of inappropriate terms that the API identifies.\n",
    "\n",
    "#### Question 04:\n",
    "\n",
    "Which words in the quote from William Shakespeare were identified as inappropriate by the Content Moderator API?"
   ]
  },
  {
   "cell_type": "code",
   "execution_count": 29,
   "metadata": {
    "colab": {},
    "colab_type": "code",
    "id": "S_9SmQcqWUY4"
   },
   "outputs": [
    {
     "data": {
      "text/plain": [
       "['whoreson']"
      ]
     },
     "execution_count": 29,
     "metadata": {},
     "output_type": "execute_result"
    }
   ],
   "source": [
    "#define a quote from Shakespeare's Henry IV, Part I\n",
    "shakespeare_quote = 'Thou clay-brained guts, thou knotty-pated fool, thou whoreson obscene greasy tallow-catch!'\n",
    "\n",
    "#pass the Shakespeare quote to the get_inappropriate_terms() function, and print the results\n",
    "get_inappropriate_terms(shakespeare_quote)\n"
   ]
  },
  {
   "cell_type": "markdown",
   "metadata": {
    "colab_type": "text",
    "id": "SEU8fU0T7jXv"
   },
   "source": [
    "## Process Comments\n",
    "\n",
    "If you've reached this point in the lab, then you've already been able to set up a cognitive service on the Microsoft Azure platform and successfully communicate with the service's API using Python. Congratulations!\n",
    "\n",
    "Our next task will be to process all of the comments in our dataset. This will involve the following steps for each comment:\n",
    "\n",
    "1. Send a comment to the API, and get the resulting list of inapproprite terms for that comment.\n",
    "2. Determine how many inappropriate terms were identified by the API for the comment, and record the number of inappropriate terms in a list.\n",
    "\n",
    "Once these steps have been completed for each comment, we will add a new column to our dataframe that indicates whether the API found each comment to be appropriate or not. Run the code cell below to perform these tasks.\n",
    "\n",
    "**Note:** Recalling that we are limited to one API transaction per second, it will take approximately 2.5 to 3 minutes to process all of the comments in our dataset. As such, please be patient!"
   ]
  },
  {
   "cell_type": "code",
   "execution_count": 32,
   "metadata": {
    "colab": {},
    "colab_type": "code",
    "id": "Km79FKmuIeoc"
   },
   "outputs": [
    {
     "name": "stdout",
     "output_type": "stream",
     "text": [
      "Processing complete!\n"
     ]
    }
   ],
   "source": [
    "#define a list to hold the number of inappropriate terms in each comment\n",
    "inappropriate_term_counts = []\n",
    "\n",
    "#process each comment in the dataframe\n",
    "current_comment = 0\n",
    "number_of_comments = len(df['comment_text'])\n",
    "for comment in df['comment_text']:\n",
    "  #display overall progress\n",
    "  clear_output(wait=True)\n",
    "  current_comment += 1\n",
    "  print('Processing comment {0} of {1}...'.format(current_comment, number_of_comments))\n",
    "  #get a list of inappropriate terms for the current comment\n",
    "  results = get_inappropriate_terms(comment)\n",
    "  #add the number of inappropriate terms for this comment to the list\n",
    "  inappropriate_term_counts.append(len(results))  \n",
    "\n",
    "#add a column to the dataframe indicating whether the API found each comment to be appropriate or not\n",
    "df['api_inappropriate'] = [1 if n > 0 else 0 for n in inappropriate_term_counts]\n",
    "\n",
    "#update status\n",
    "clear_output(wait=True)\n",
    "print(\"Processing complete!\")"
   ]
  },
  {
   "cell_type": "markdown",
   "metadata": {
    "colab_type": "text",
    "id": "jpECA_FKfg09"
   },
   "source": [
    "## Appropriate or Inappropriate?\n",
    "\n",
    "Earlier in this lab, we determined the number of comments in the dataset that were found to be appropriate by human judges. Now let's see how many of the comments the Content Moderator API found to be appropriate. Remember that we just added a new column named `api_inappropriate` to our dataframe, and that the values in this column indicate whether the API found each comment to be appropriate or not (inappropriate = 1, appropriate = 0).\n",
    "\n",
    "#### Task 05:\n",
    "\n",
    "Write a line of code in the cell below that will display the number of comments in the dataset that the Content Moderator API found to be appropriate.\n",
    "\n",
    "#### Question 05:\n",
    "\n",
    "How many comments in the dataset did the Content Moderator API find to be appropriate?"
   ]
  },
  {
   "cell_type": "code",
   "execution_count": 82,
   "metadata": {
    "colab": {},
    "colab_type": "code",
    "id": "pzQxSw4AjdTm"
   },
   "outputs": [
    {
     "data": {
      "text/html": [
       "<div>\n",
       "<style scoped>\n",
       "    .dataframe tbody tr th:only-of-type {\n",
       "        vertical-align: middle;\n",
       "    }\n",
       "\n",
       "    .dataframe tbody tr th {\n",
       "        vertical-align: top;\n",
       "    }\n",
       "\n",
       "    .dataframe thead th {\n",
       "        text-align: right;\n",
       "    }\n",
       "</style>\n",
       "<table border=\"1\" class=\"dataframe\">\n",
       "  <thead>\n",
       "    <tr style=\"text-align: right;\">\n",
       "      <th>api_inappropriate</th>\n",
       "      <th>0</th>\n",
       "      <th>1</th>\n",
       "    </tr>\n",
       "    <tr>\n",
       "      <th>human_inappropriate</th>\n",
       "      <th></th>\n",
       "      <th></th>\n",
       "    </tr>\n",
       "  </thead>\n",
       "  <tbody>\n",
       "    <tr>\n",
       "      <th>0</th>\n",
       "      <td>29</td>\n",
       "      <td>1</td>\n",
       "    </tr>\n",
       "    <tr>\n",
       "      <th>1</th>\n",
       "      <td>91</td>\n",
       "      <td>29</td>\n",
       "    </tr>\n",
       "  </tbody>\n",
       "</table>\n",
       "</div>"
      ],
      "text/plain": [
       "api_inappropriate     0   1\n",
       "human_inappropriate        \n",
       "0                    29   1\n",
       "1                    91  29"
      ]
     },
     "execution_count": 82,
     "metadata": {},
     "output_type": "execute_result"
    }
   ],
   "source": [
    "#display the number of comments in the dataset that the Content Moderator API found to be appropriate\n",
    "#sum(df.api_inappropriate == 0)\n",
    "\n",
    "pd.crosstab(df.human_inappropriate, df.api_inappropriate)"
   ]
  },
  {
   "cell_type": "markdown",
   "metadata": {
    "colab_type": "text",
    "id": "sV3Mmqcqj0yy"
   },
   "source": [
    "Another important consideration is the extent to which the conclusions of the human judges and the Content Moderator service overlap.\n",
    "\n",
    "#### Task 06:\n",
    "\n",
    "Write a line of code in the cell below that will display the number of comments in the dataset that both the human judges and the Content Moderator API considered to be appropriate. \n",
    "* **Hint #1:** The answer will be the number of comments where the value of `human_inappropriate` is 0, and the value of `api_inappropriate` is 0.\n",
    "* **Hint #2:** A quick and easy way to answer questions like this is to generate a cross-tabulation table for the two variables of interest. See [this article](https://pbpython.com/pandas-crosstab.html) for some examples.\n",
    "\n",
    "####Question 06:\n",
    "\n",
    "How many comments in the dataset were considered to be appropriate by both the human judges and the Content Moderator API?"
   ]
  },
  {
   "cell_type": "code",
   "execution_count": 35,
   "metadata": {},
   "outputs": [
    {
     "data": {
      "text/html": [
       "<div>\n",
       "<style scoped>\n",
       "    .dataframe tbody tr th:only-of-type {\n",
       "        vertical-align: middle;\n",
       "    }\n",
       "\n",
       "    .dataframe tbody tr th {\n",
       "        vertical-align: top;\n",
       "    }\n",
       "\n",
       "    .dataframe thead th {\n",
       "        text-align: right;\n",
       "    }\n",
       "</style>\n",
       "<table border=\"1\" class=\"dataframe\">\n",
       "  <thead>\n",
       "    <tr style=\"text-align: right;\">\n",
       "      <th></th>\n",
       "      <th>comment_text</th>\n",
       "      <th>toxic</th>\n",
       "      <th>obscene</th>\n",
       "      <th>threat</th>\n",
       "      <th>insult</th>\n",
       "      <th>identity_hate</th>\n",
       "      <th>human_inappropriate</th>\n",
       "      <th>api_inappropriate</th>\n",
       "    </tr>\n",
       "  </thead>\n",
       "  <tbody>\n",
       "    <tr>\n",
       "      <th>0</th>\n",
       "      <td>holocaust was needed by the whole humanity</td>\n",
       "      <td>0</td>\n",
       "      <td>0</td>\n",
       "      <td>0</td>\n",
       "      <td>0</td>\n",
       "      <td>1</td>\n",
       "      <td>1</td>\n",
       "      <td>0</td>\n",
       "    </tr>\n",
       "    <tr>\n",
       "      <th>1</th>\n",
       "      <td>You translated much more clumsy, dude.\\nI just...</td>\n",
       "      <td>0</td>\n",
       "      <td>0</td>\n",
       "      <td>0</td>\n",
       "      <td>1</td>\n",
       "      <td>0</td>\n",
       "      <td>1</td>\n",
       "      <td>0</td>\n",
       "    </tr>\n",
       "    <tr>\n",
       "      <th>2</th>\n",
       "      <td>Dont really like the liberals either, Too much...</td>\n",
       "      <td>0</td>\n",
       "      <td>0</td>\n",
       "      <td>0</td>\n",
       "      <td>1</td>\n",
       "      <td>0</td>\n",
       "      <td>1</td>\n",
       "      <td>0</td>\n",
       "    </tr>\n",
       "    <tr>\n",
       "      <th>3</th>\n",
       "      <td>WHO CARES WIKIPEDIA IS NOT A PLACE FOR INDIVID...</td>\n",
       "      <td>1</td>\n",
       "      <td>0</td>\n",
       "      <td>0</td>\n",
       "      <td>0</td>\n",
       "      <td>0</td>\n",
       "      <td>1</td>\n",
       "      <td>0</td>\n",
       "    </tr>\n",
       "    <tr>\n",
       "      <th>4</th>\n",
       "      <td>Wow dude.  As your physician I suggest you sli...</td>\n",
       "      <td>0</td>\n",
       "      <td>0</td>\n",
       "      <td>1</td>\n",
       "      <td>0</td>\n",
       "      <td>0</td>\n",
       "      <td>1</td>\n",
       "      <td>0</td>\n",
       "    </tr>\n",
       "    <tr>\n",
       "      <th>5</th>\n",
       "      <td>The status quo version is plenty good enough f...</td>\n",
       "      <td>0</td>\n",
       "      <td>0</td>\n",
       "      <td>0</td>\n",
       "      <td>0</td>\n",
       "      <td>0</td>\n",
       "      <td>0</td>\n",
       "      <td>0</td>\n",
       "    </tr>\n",
       "    <tr>\n",
       "      <th>6</th>\n",
       "      <td>Thank you, should I one day wish to yet again ...</td>\n",
       "      <td>0</td>\n",
       "      <td>1</td>\n",
       "      <td>0</td>\n",
       "      <td>0</td>\n",
       "      <td>0</td>\n",
       "      <td>1</td>\n",
       "      <td>1</td>\n",
       "    </tr>\n",
       "    <tr>\n",
       "      <th>7</th>\n",
       "      <td>Regarding your passing \\n\\nBecause you willful...</td>\n",
       "      <td>0</td>\n",
       "      <td>0</td>\n",
       "      <td>1</td>\n",
       "      <td>0</td>\n",
       "      <td>0</td>\n",
       "      <td>1</td>\n",
       "      <td>0</td>\n",
       "    </tr>\n",
       "    <tr>\n",
       "      <th>8</th>\n",
       "      <td>diablada = bolivia \\n\\nlook at maps. this show...</td>\n",
       "      <td>0</td>\n",
       "      <td>0</td>\n",
       "      <td>0</td>\n",
       "      <td>0</td>\n",
       "      <td>0</td>\n",
       "      <td>0</td>\n",
       "      <td>0</td>\n",
       "    </tr>\n",
       "    <tr>\n",
       "      <th>9</th>\n",
       "      <td>I'ma smack ya upside da head wit a shovel. \\n\\...</td>\n",
       "      <td>0</td>\n",
       "      <td>0</td>\n",
       "      <td>1</td>\n",
       "      <td>0</td>\n",
       "      <td>0</td>\n",
       "      <td>1</td>\n",
       "      <td>0</td>\n",
       "    </tr>\n",
       "  </tbody>\n",
       "</table>\n",
       "</div>"
      ],
      "text/plain": [
       "                                        comment_text  toxic  obscene  threat  \\\n",
       "0         holocaust was needed by the whole humanity      0        0       0   \n",
       "1  You translated much more clumsy, dude.\\nI just...      0        0       0   \n",
       "2  Dont really like the liberals either, Too much...      0        0       0   \n",
       "3  WHO CARES WIKIPEDIA IS NOT A PLACE FOR INDIVID...      1        0       0   \n",
       "4  Wow dude.  As your physician I suggest you sli...      0        0       1   \n",
       "5  The status quo version is plenty good enough f...      0        0       0   \n",
       "6  Thank you, should I one day wish to yet again ...      0        1       0   \n",
       "7  Regarding your passing \\n\\nBecause you willful...      0        0       1   \n",
       "8  diablada = bolivia \\n\\nlook at maps. this show...      0        0       0   \n",
       "9  I'ma smack ya upside da head wit a shovel. \\n\\...      0        0       1   \n",
       "\n",
       "   insult  identity_hate  human_inappropriate  api_inappropriate  \n",
       "0       0              1                    1                  0  \n",
       "1       1              0                    1                  0  \n",
       "2       1              0                    1                  0  \n",
       "3       0              0                    1                  0  \n",
       "4       0              0                    1                  0  \n",
       "5       0              0                    0                  0  \n",
       "6       0              0                    1                  1  \n",
       "7       0              0                    1                  0  \n",
       "8       0              0                    0                  0  \n",
       "9       0              0                    1                  0  "
      ]
     },
     "execution_count": 35,
     "metadata": {},
     "output_type": "execute_result"
    }
   ],
   "source": [
    "df.head(10)"
   ]
  },
  {
   "cell_type": "code",
   "execution_count": 86,
   "metadata": {
    "colab": {},
    "colab_type": "code",
    "id": "O-3vsmGgQyK2"
   },
   "outputs": [
    {
     "name": "stdout",
     "output_type": "stream",
     "text": [
      "total Considered inappropriate: 150\n"
     ]
    }
   ],
   "source": [
    "#display the number of comments in the dataset that both the human judges and the Content Moderator API considered to be appropriate\n",
    "api = sum(df.api_inappropriate == 1)\n",
    "human = sum(df.human_inappropriate == 1)\n",
    "print('total Considered inappropriate:', api + human)"
   ]
  },
  {
   "cell_type": "markdown",
   "metadata": {
    "colab_type": "text",
    "id": "I6D8ODrlm3RC"
   },
   "source": [
    "Based on the previous two tasks, it should be clear that the human judges considered many more of the comments in the dataset to be inappropriate than the Content Moderator API. Let's explore this situation in a bit more detail.\n",
    "\n",
    "The code cell below contains a function named `proportion_of_inappropriate_comments_identified()` that computes and returns the proportion of comments of the specified type (*toxic*, *obscene*, *threat*, etc.) that were labeled by human judges as inappropriate, *and also identified by the Content Moderator API as inappropriate*. Put differently, this function will tell us the proportion of inappropriate comments of a particular type that the API was able to correctly identify as inappropriate.\n",
    "\n",
    "Run the code cell below to make this function available to your Python program."
   ]
  },
  {
   "cell_type": "code",
   "execution_count": 72,
   "metadata": {
    "colab": {},
    "colab_type": "code",
    "id": "PNQM6DFz3Ybv"
   },
   "outputs": [],
   "source": [
    "#Define a function that computes the proportion of inappropriate comments of a particular type \n",
    "#that the API was able to correctly identify as inappropriate.\n",
    "def proportion_of_inappropriate_comments_identified(comment_type):\n",
    "  col1_vals = df[comment_type].tolist()\n",
    "  col2_vals = df['api_inappropriate'].tolist()\n",
    "  number_of_comments = len(col1_vals)\n",
    "  number_of_inappropriate_comments = np.sum(col1_vals)\n",
    "  identified = 0\n",
    "  for i in range(number_of_comments):\n",
    "    if (col1_vals[i] == 1 and col2_vals[i] == 1):\n",
    "      identified += 1\n",
    "  return identified / number_of_inappropriate_comments"
   ]
  },
  {
   "cell_type": "markdown",
   "metadata": {
    "colab_type": "text",
    "id": "u0gMR1egAR7U"
   },
   "source": [
    "#### Task 07:\n",
    "\n",
    "The code cell below defines a list that contains the names of all of the various types of inappropriate comments in our dataset. Write a `for` loop that will iterate through the items in the list, pass the name of each comment type to the `percent_of_inappropriate_comments_identified()` function, and then display the results.\n",
    "\n",
    "#### Question 07:\n",
    "\n",
    "What proportion of the `threat` comments in the dataset was the API able to identify correctly? Report your answer using three decimals of precision (e.g., 0.135).\n",
    "\n",
    "#### Question 08:\n",
    "In general, what can you conclude about the Content Moderator API's ability to accurately identify inappropriate comments of various types?"
   ]
  },
  {
   "cell_type": "code",
   "execution_count": 1,
   "metadata": {
    "colab": {},
    "colab_type": "code",
    "id": "QFsPkJoANoid"
   },
   "outputs": [],
   "source": [
    "#define a list of column names\n",
    "comment_types = ['toxic', 'obscene', 'threat', 'insult', 'identity_hate']\n",
    "\n",
    "#A 'for' loop that passes the name of each comment type to the percent_of_inappropriate_comments_identified() \n",
    "#function, and then display the results.\n",
    "for comment_type in comment_types:\n",
    "    x = proportion_of_inappropriate_comments_identified(comment_type)\n",
    "    \n",
    "    print(commment_type,x)"
   ]
  },
  {
   "cell_type": "code",
   "execution_count": 109,
   "metadata": {},
   "outputs": [
    {
     "name": "stdout",
     "output_type": "stream",
     "text": [
      "toxic 0.17391304347826086\n",
      "obscene 0.6666666666666666\n",
      "threat 0.0\n",
      "insult 0.16\n",
      "identity_hate 0.19230769230769232\n"
     ]
    }
   ],
   "source": [
    "#define a list of column names\n",
    "comment_types = ['toxic', 'obscene', 'threat', 'insult', 'identity_hate']\n",
    "#A 'for' loop that passes the name of each comment type to the percent_of_inappropriate_comments_identified() \n",
    "#function, and then display the results.\n",
    "\n",
    "for comment_type in comment_types:\n",
    "   x = proportion_of_inappropriate_comments_identified(comment_type)\n",
    "   print (comment_type, x)"
   ]
  }
 ],
 "metadata": {
  "colab": {
   "name": "Lab Assignment 02 - Textual Content Moderation using Cognitive Services and Python.ipynb",
   "provenance": [],
   "toc_visible": true
  },
  "kernelspec": {
   "display_name": "Python 3",
   "language": "python",
   "name": "python3"
  },
  "language_info": {
   "codemirror_mode": {
    "name": "ipython",
    "version": 3
   },
   "file_extension": ".py",
   "mimetype": "text/x-python",
   "name": "python",
   "nbconvert_exporter": "python",
   "pygments_lexer": "ipython3",
   "version": "3.6.5"
  }
 },
 "nbformat": 4,
 "nbformat_minor": 1
}
